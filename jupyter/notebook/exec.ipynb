{
 "cells": [
  {
   "cell_type": "code",
   "execution_count": 1,
   "metadata": {},
   "outputs": [],
   "source": [
    "import findspark\n",
    "findspark.init()\n",
    "import os\n",
    "\n",
    "os.environ['PYSPARK_SUBMIT_ARGS'] = '--jars ./libs/spark-sql-kafka-0-10_2.11-2.4.5.jar,./libs/kafka-clients-2.4.1.jar pyspark-shell'"
   ]
  },
  {
   "cell_type": "code",
   "execution_count": 2,
   "metadata": {},
   "outputs": [],
   "source": [
    "from pyspark.sql import SparkSession\n",
    "\n",
    "## Create a spark session\n",
    "spark = SparkSession\\\n",
    "    .builder\\\n",
    "    .appName(\"SparkDemo\")\\\n",
    "    .master(\"local[*]\")\\\n",
    "    .getOrCreate()\n",
    "    "
   ]
  },
  {
   "cell_type": "code",
   "execution_count": null,
   "metadata": {},
   "outputs": [],
   "source": [
    "import pyspark.sql.functions as F\n",
    "from pyspark.sql.types import *\n",
    "\n",
    "## Kafka configs\n",
    "kafka_input_config = {\n",
    "    \"kafka.bootstrap.servers\" : \"kafka:9092\",\n",
    "    \"subscribe\" : \"input\",\n",
    "    \"startingOffsets\" : \"latest\",\n",
    "    \"failOnDataLoss\" : \"false\"\n",
    "}\n",
    "kafka_output_config = {\n",
    "    \"kafka.bootstrap.servers\" : \"kafka:9092\",\n",
    "    \"topic\" : \"output\",\n",
    "    \"checkpointLocation\" : \"./check.txt\"\n",
    "}\n",
    "\n",
    "## Input Schema\n",
    "df_schema = StructType([\n",
    "    StructField(\"transaction_id\", StringType(), True),\n",
    "    StructField(\"customer_id\", StringType(), True),\n",
    "    StructField(\"amount\", IntegerType(), True),\n",
    "    StructField(\"transaction_timestamp\", TimestampType(), True),\n",
    "    StructField(\"merchant_id\", StringType(), True)\n",
    "])\n",
    "\n",
    "\n",
    "## Read Stream\n",
    "df = spark\\\n",
    "    .readStream\\\n",
    "    .format(\"kafka\")\\\n",
    "    .options(**kafka_input_config)\\\n",
    "    .load()\\\n",
    "    .select(F.from_json(F.col(\"value\").cast(\"string\"),df_schema).alias(\"json_data\"))\\\n",
    "    .select(\"json_data.*\")\n",
    "\n",
    "\n",
    "## Filter for eligible transactions\n",
    "df = df.filter(\\\n",
    "              (F.col(\"amount\") >= 15) &\\\n",
    "              (F.dayofweek(F.col(\"transaction_timestamp\")) == 6 ) &\\\n",
    "              (F.col(\"merchant_id\") == \"MerchantX\")\\\n",
    "              )\\\n",
    "        .withColumn(\"cashback\",F.col(\"amount\").cast(\"double\") * 0.15 )\\\n",
    "        .select(F.col(\"customer_id\"),F.col(\"amount\"),\\\n",
    "                F.col(\"transaction_timestamp\"),F.col(\"merchant_id\"),F.col(\"cashback\"))\n",
    "\n",
    "\n",
    "## Create an output and produce to kafka target\n",
    "output_df = df.select(F.to_json(F.struct(*df.columns)).alias(\"value\"))\n",
    "    \n",
    "write = output_df\\\n",
    "    .writeStream\\\n",
    "    .format(\"kafka\")\\\n",
    "    .options(**kafka_output_config)\\\n",
    "    .start()\n",
    "\n",
    "write.awaitTermination()\n",
    "\n",
    "\n",
    "\n",
    "\n",
    "## Transaction Sample\n",
    "#{\"transaction_id\": \"1\", \"customer_id\": \"123\", \"amount\": 20, \"transaction_timestamp\": \"2023-04-21T09:30:00Z\", \"merchant_id\": \"MerchantX\"}\n",
    "#{\"transaction_id\": \"2\", \"customer_id\": \"123\", \"amount\": 20, \"transaction_timestamp\": \"2023-04-21T09:30:00Z\", \"merchant_id\": \"MerchantY\"}\n",
    "#{\"transaction_id\": \"3\", \"customer_id\": \"123\", \"amount\": 20, \"transaction_timestamp\": \"2023-04-22T09:30:00Z\", \"merchant_id\": \"MerchantX\"}\n",
    "#{\"transaction_id\": \"4\", \"customer_id\": \"321\", \"amount\": 667, \"transaction_timestamp\": \"2023-04-28T09:30:00Z\", \"merchant_id\": \"MerchantX\"}\n"
   ]
  },
  {
   "cell_type": "code",
   "execution_count": null,
   "metadata": {},
   "outputs": [],
   "source": []
  }
 ],
 "metadata": {
  "kernelspec": {
   "display_name": "Python 3",
   "language": "python",
   "name": "python3"
  },
  "language_info": {
   "codemirror_mode": {
    "name": "ipython",
    "version": 3
   },
   "file_extension": ".py",
   "mimetype": "text/x-python",
   "name": "python",
   "nbconvert_exporter": "python",
   "pygments_lexer": "ipython3",
   "version": "3.7.3"
  }
 },
 "nbformat": 4,
 "nbformat_minor": 4
}
